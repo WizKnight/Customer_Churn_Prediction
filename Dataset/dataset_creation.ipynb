{
 "cells": [
  {
   "cell_type": "markdown",
   "metadata": {},
   "source": [
    "## Synthetic Data"
   ]
  },
  {
   "cell_type": "code",
   "execution_count": 1,
   "metadata": {},
   "outputs": [],
   "source": [
    "import pandas as pd\n",
    "import numpy as np\n",
    "from sklearn.datasets import make_classification"
   ]
  },
  {
   "cell_type": "code",
   "execution_count": 3,
   "metadata": {},
   "outputs": [],
   "source": [
    "# Set random seed for reproducibility\n",
    "np.random.seed(42)\n",
    "\n",
    "# Generate synthetic dataset with 20 features\n",
    "\n",
    "n_samples = 1000\n",
    "n_features = 20\n",
    "\n",
    "X,y = make_classification(n_samples=n_samples, n_features=n_features, n_classes=2,\n",
    "                          n_clusters_per_class=1, n_informative=15,\n",
    "                          random_state=123, n_redundant=5)\n",
    "\n",
    "# Create pandas Dataframe\n",
    "\n",
    "cols = ['feat_' + str(i) for i in range(n_features)]\n",
    "\n",
    "df = pd.DataFrame(X, columns=cols)\n",
    "df['target'] = y"
   ]
  },
  {
   "cell_type": "code",
   "execution_count": 4,
   "metadata": {},
   "outputs": [
    {
     "name": "stdout",
     "output_type": "stream",
     "text": [
      "     feat_0    feat_1    feat_2    feat_3    feat_4    feat_5    feat_6  \\\n",
      "0  6.595236  1.485321  2.105253  0.146850  2.186080  0.465362  1.012486   \n",
      "1 -1.128619  0.023400  3.150784  2.738828  0.891263  0.807017 -0.036696   \n",
      "2       NaN       NaN       NaN       NaN       NaN       NaN       NaN   \n",
      "3  9.000000  2.000000  5.000000  9.000000  9.000000  8.000000  0.000000   \n",
      "4  0.245776  1.237750  0.434717 -6.314769  3.512425 -2.768056  0.334099   \n",
      "\n",
      "     feat_7    feat_8    feat_9  ...   feat_11   feat_12   feat_13   feat_14  \\\n",
      "0  0.239239  4.174100  2.641864  ...  0.972253  5.718481 -0.842036 -0.724342   \n",
      "1  4.038607  0.248517  4.131011  ...  0.934878 -2.435948 -2.831492  1.920735   \n",
      "2       NaN       NaN       NaN  ...       NaN       NaN       NaN       NaN   \n",
      "3  4.000000  3.000000  7.000000  ...  8.000000  5.000000  3.000000  8.000000   \n",
      "4 -0.409632  2.676267 -1.091282  ...  0.118257  4.478975  6.368008  0.410060   \n",
      "\n",
      "    feat_15   feat_16   feat_17   feat_18   feat_19  target  \n",
      "0 -2.428289 -4.876115 -2.598448  0.983766 -4.186976     0.0  \n",
      "1 -1.735742 -2.640251  0.552974  0.581706  0.034813     0.0  \n",
      "2       NaN       NaN       NaN       NaN       NaN     NaN  \n",
      "3  4.000000  4.000000  4.000000  0.000000  0.000000     7.0  \n",
      "4  2.129696  1.969829  1.287612  2.692455 -3.542341     0.0  \n",
      "\n",
      "[5 rows x 21 columns]\n"
     ]
    }
   ],
   "source": [
    "# Add outlier values\n",
    "\n",
    "num_outliers = 50\n",
    "outlier_indices = np.random.choice(n_samples, size = num_outliers, replace =False)\n",
    "\n",
    "for i in outlier_indices:\n",
    "    df.iloc[i] = np.random.randint(0,10, size=len(df.columns))\n",
    "    \n",
    "# Add missing values\n",
    "\n",
    "num_missing = 80\n",
    "missing_indices = np.random.choice(n_samples, size=num_missing, replace=False)\n",
    "df.iloc[missing_indices] = np.nan\n",
    "\n",
    "# Shuffle rows\n",
    "\n",
    "df = df.sample(frac=1).reset_index(drop=True)\n",
    "\n",
    "print(df.head())"
   ]
  },
  {
   "cell_type": "code",
   "execution_count": 5,
   "metadata": {},
   "outputs": [
    {
     "name": "stderr",
     "output_type": "stream",
     "text": [
      "c:\\Users\\Swapnil\\anaconda3\\lib\\site-packages\\pandas\\core\\internals\\blocks.py:2323: RuntimeWarning: invalid value encountered in cast\n",
      "  values = values.astype(str)\n"
     ]
    }
   ],
   "source": [
    "file_name = 'churn_data.csv'\n",
    "df.to_csv(file_name, index=False)"
   ]
  },
  {
   "cell_type": "markdown",
   "metadata": {},
   "source": [
    "## Dummy Dataset"
   ]
  },
  {
   "cell_type": "code",
   "execution_count": 7,
   "metadata": {},
   "outputs": [
    {
     "name": "stdout",
     "output_type": "stream",
     "text": [
      "   CustomerID  Gender   Age  Tenure      Balance  Target\n",
      "0           0    Male  43.0       4  5739.740763       0\n",
      "1           1  Female  44.0       3  5117.625168       1\n",
      "2           2    Male  58.0       0  5781.114931       0\n",
      "3           3    Male  19.0       4  6298.895016       0\n",
      "4           4    Male  40.0       1  5972.512224       0\n"
     ]
    }
   ],
   "source": [
    "# Generate dummy data\n",
    "np.random.seed(123) \n",
    "n_customers = 5000\n",
    "data = pd.DataFrame({'CustomerID': range(n_customers)})\n",
    "\n",
    "# Add dummy features\n",
    "data['Gender'] = np.random.choice(['Male','Female'], size=n_customers) \n",
    "data['Age'] = np.random.randint(18, 65, size=n_customers)\n",
    "data['Tenure'] = np.random.randint(0, 5, size=n_customers)\n",
    "data['Balance'] = np.random.normal(5000, 2000, n_customers)\n",
    " \n",
    "# Add target column\n",
    "data['Target'] = np.random.choice([0,1], size=n_customers, p=[0.7,0.3])\n",
    "\n",
    "# Add outliers\n",
    "data.loc[data.sample(50).index, 'Balance'] = np.random.randint(10000, 100000)\n",
    "\n",
    "# Add missing values\n",
    "data.loc[data.sample(100).index, 'Age'] = np.nan\n",
    "\n",
    "# Print first few records\n",
    "print(data.head())"
   ]
  },
  {
   "cell_type": "code",
   "execution_count": 8,
   "metadata": {},
   "outputs": [
    {
     "name": "stderr",
     "output_type": "stream",
     "text": [
      "c:\\Users\\Swapnil\\anaconda3\\lib\\site-packages\\pandas\\core\\internals\\blocks.py:2323: RuntimeWarning: invalid value encountered in cast\n",
      "  values = values.astype(str)\n"
     ]
    }
   ],
   "source": [
    "filename = 'churn_dataset.csv'\n",
    "\n",
    "data.to_csv(filename, index=False)"
   ]
  }
 ],
 "metadata": {
  "kernelspec": {
   "display_name": "base",
   "language": "python",
   "name": "python3"
  },
  "language_info": {
   "codemirror_mode": {
    "name": "ipython",
    "version": 3
   },
   "file_extension": ".py",
   "mimetype": "text/x-python",
   "name": "python",
   "nbconvert_exporter": "python",
   "pygments_lexer": "ipython3",
   "version": "3.10.9"
  },
  "orig_nbformat": 4
 },
 "nbformat": 4,
 "nbformat_minor": 2
}
